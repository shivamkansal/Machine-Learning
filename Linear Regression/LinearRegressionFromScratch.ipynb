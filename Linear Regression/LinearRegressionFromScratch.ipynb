{
 "cells": [
  {
   "cell_type": "code",
   "execution_count": 34,
   "metadata": {},
   "outputs": [],
   "source": [
    "import numpy as np\n"
   ]
  },
  {
   "cell_type": "code",
   "execution_count": 35,
   "metadata": {},
   "outputs": [],
   "source": [
    "data=np.loadtxt(\"Desktop/data.csv\",delimiter=\",\")"
   ]
  },
  {
   "cell_type": "code",
   "execution_count": 36,
   "metadata": {},
   "outputs": [],
   "source": [
    "x=data[:, 0]\n",
    "y=data[:, 1]"
   ]
  },
  {
   "cell_type": "code",
   "execution_count": 37,
   "metadata": {},
   "outputs": [
    {
     "data": {
      "text/plain": [
       "(100,)"
      ]
     },
     "execution_count": 37,
     "metadata": {},
     "output_type": "execute_result"
    }
   ],
   "source": [
    "x.shape"
   ]
  },
  {
   "cell_type": "code",
   "execution_count": 38,
   "metadata": {},
   "outputs": [
    {
     "data": {
      "text/plain": [
       "(70,)"
      ]
     },
     "execution_count": 38,
     "metadata": {},
     "output_type": "execute_result"
    }
   ],
   "source": [
    "from sklearn import model_selection\n",
    "X_train, X_test, Y_train, Y_test=model_selection.train_test_split(x,y,test_size=0.3)\n",
    "X_train.shape"
   ]
  },
  {
   "cell_type": "code",
   "execution_count": 39,
   "metadata": {},
   "outputs": [],
   "source": [
    "def fit(x_train, y_train):\n",
    "    num=(x_train*y_train).mean()-x_train.mean()*y_train.mean()\n",
    "    den=(x_train**2).mean()-x_train.mean()**2\n",
    "    m=num/den\n",
    "    c=y_train.mean()-m*x_train.mean()\n",
    "    return m, c\n",
    "    "
   ]
  },
  {
   "cell_type": "code",
   "execution_count": 43,
   "metadata": {},
   "outputs": [],
   "source": [
    "def predict(x,m,c):\n",
    "    return m*x+c\n",
    "\n",
    "def score(y_truth,y_pred):\n",
    "    u=((y_truth-y_pred)**2).sum()\n",
    "    v=((y_truth-y_truth.mean())**2).sum()\n",
    "    return 1-u/v\n",
    "\n",
    "def cost(x,y,m,c):\n",
    "    return (((y-m*x-c)**2).mean())"
   ]
  },
  {
   "cell_type": "code",
   "execution_count": 44,
   "metadata": {},
   "outputs": [
    {
     "name": "stdout",
     "output_type": "stream",
     "text": [
      "Test Score 0.6700289987996997\n",
      "Train Score 0.5617274297493458\n",
      "M,C  1.3536540082253246 6.898606225578035\n",
      "COST on training data 119.37741654086263\n"
     ]
    }
   ],
   "source": [
    "m, c=fit(X_train,Y_train)\n",
    "y_test_pred=predict(X_test,m,c)\n",
    "print(\"Test Score\",score(Y_test,y_test_pred))\n",
    "\n",
    "y_train_pred=predict(X_train,m,c)\n",
    "print(\"Train Score\",score(Y_train,y_train_pred))\n",
    "print(\"M,C \",m, c)\n",
    "print(\"COST on training data\",cost(X_train,Y_train,m,c))"
   ]
  }
 ],
 "metadata": {
  "kernelspec": {
   "display_name": "Python 3",
   "language": "python",
   "name": "python3"
  },
  "language_info": {
   "codemirror_mode": {
    "name": "ipython",
    "version": 3
   },
   "file_extension": ".py",
   "mimetype": "text/x-python",
   "name": "python",
   "nbconvert_exporter": "python",
   "pygments_lexer": "ipython3",
   "version": "3.7.0"
  }
 },
 "nbformat": 4,
 "nbformat_minor": 2
}
